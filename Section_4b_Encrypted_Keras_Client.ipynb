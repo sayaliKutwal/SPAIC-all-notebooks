{
  "nbformat": 4,
  "nbformat_minor": 0,
  "metadata": {
    "kernelspec": {
      "display_name": "Python 3",
      "language": "python",
      "name": "python3"
    },
    "language_info": {
      "codemirror_mode": {
        "name": "ipython",
        "version": 3
      },
      "file_extension": ".py",
      "mimetype": "text/x-python",
      "name": "python",
      "nbconvert_exporter": "python",
      "pygments_lexer": "ipython3",
      "version": "3.6.8"
    },
    "colab": {
      "name": "Section 4b - Encrypted Keras Client.ipynb",
      "version": "0.3.2",
      "provenance": [],
      "include_colab_link": true
    }
  },
  "cells": [
    {
      "cell_type": "markdown",
      "metadata": {
        "id": "view-in-github",
        "colab_type": "text"
      },
      "source": [
        "<a href=\"https://colab.research.google.com/github/sayaliKutwal/SPAIC-all-notebooks/blob/master/Section_4b_Encrypted_Keras_Client.ipynb\" target=\"_parent\"><img src=\"https://colab.research.google.com/assets/colab-badge.svg\" alt=\"Open In Colab\"/></a>"
      ]
    },
    {
      "cell_type": "markdown",
      "metadata": {
        "id": "noumk6hOaYVf",
        "colab_type": "text"
      },
      "source": [
        "# Step 2: Private Prediction using Syft Keras - Serving (Client)\n",
        "\n",
        "_Demo Ref: https://github.com/OpenMined/PySyft/tree/dev/examples/tutorials_\n",
        "\n",
        "Congratulations! After training your model with normal Keras and securing it with Syft Keras, you are ready to request some private predictions. "
      ]
    },
    {
      "cell_type": "code",
      "metadata": {
        "id": "XgPUB2chaYVh",
        "colab_type": "code",
        "colab": {}
      },
      "source": [
        "import numpy as np\n",
        "import tensorflow as tf\n",
        "from tensorflow.keras.datasets import mnist\n",
        "\n",
        "import syft as sy"
      ],
      "execution_count": 0,
      "outputs": []
    },
    {
      "cell_type": "code",
      "metadata": {
        "id": "y0WqqaRSaYVo",
        "colab_type": "code",
        "colab": {}
      },
      "source": [
        "# input image dimensions\n",
        "img_rows, img_cols = 28, 28\n",
        "\n",
        "# the data, split between train and test sets\n",
        "(x_train, y_train), (x_test, y_test) = mnist.load_data()\n",
        "\n",
        "x_train = x_train.reshape(x_train.shape[0], img_rows, img_cols, 1)\n",
        "x_test = x_test.reshape(x_test.shape[0], img_rows, img_cols, 1)\n",
        "input_shape = (img_rows, img_cols, 1)\n",
        "\n",
        "x_train = x_train.astype('float32')\n",
        "x_test = x_test.astype('float32')\n",
        "x_train /= 255\n",
        "x_test /= 255"
      ],
      "execution_count": 0,
      "outputs": []
    },
    {
      "cell_type": "code",
      "metadata": {
        "id": "TLXH80o2aYVt",
        "colab_type": "code",
        "colab": {}
      },
      "source": [
        "num_classes = 10\n",
        "input_shape = (1, 28, 28, 1)\n",
        "output_shape = (1, num_classes)"
      ],
      "execution_count": 0,
      "outputs": []
    },
    {
      "cell_type": "code",
      "metadata": {
        "id": "Su4Cy2KCaYVy",
        "colab_type": "code",
        "colab": {},
        "outputId": "a7041c15-583d-44f1-eca2-82f9b0423596"
      },
      "source": [
        "client = sy.TFEWorker()\n",
        "\n",
        "alice = sy.TFEWorker(host='localhost:4000')\n",
        "bob = sy.TFEWorker(host='localhost:4001')\n",
        "carol = sy.TFEWorker(host='localhost:4002')\n",
        "cluster = sy.TFECluster(alice, bob, carol)\n",
        "\n",
        "client.connect_to_model(input_shape, output_shape, cluster)"
      ],
      "execution_count": 0,
      "outputs": [
        {
          "output_type": "stream",
          "text": [
            "INFO:tf_encrypted:Starting session on target 'grpc://localhost:4000' using config graph_options {\n",
            "}\n",
            "\n"
          ],
          "name": "stderr"
        }
      ]
    },
    {
      "cell_type": "code",
      "metadata": {
        "id": "qXNpiJ2AaYV7",
        "colab_type": "code",
        "colab": {}
      },
      "source": [
        "# User inputs\n",
        "num_tests = 3\n",
        "images, expected_labels = x_test[:num_tests], y_test[:num_tests]"
      ],
      "execution_count": 0,
      "outputs": []
    },
    {
      "cell_type": "code",
      "metadata": {
        "id": "rUThp62ZaYWA",
        "colab_type": "code",
        "colab": {},
        "outputId": "69e0b71e-8279-4305-b2a9-e3ec111b9571"
      },
      "source": [
        "for image, expected_label in zip(images, expected_labels):\n",
        "\n",
        "    res = client.query_model(image.reshape(1, 28, 28, 1))\n",
        "    predicted_label = np.argmax(res)\n",
        "\n",
        "    print(\"The image had label {} and was {} classified as {}\".format(\n",
        "        expected_label,\n",
        "        \"correctly\" if expected_label == predicted_label else \"wrongly\",\n",
        "        predicted_label))"
      ],
      "execution_count": 0,
      "outputs": [
        {
          "output_type": "stream",
          "text": [
            "The image had label 7 and was correctly classified as 7\n",
            "The image had label 2 and was correctly classified as 2\n",
            "The image had label 1 and was correctly classified as 1\n"
          ],
          "name": "stdout"
        }
      ]
    },
    {
      "cell_type": "code",
      "metadata": {
        "id": "Q1mfDweuaYWH",
        "colab_type": "code",
        "colab": {}
      },
      "source": [
        ""
      ],
      "execution_count": 0,
      "outputs": []
    }
  ]
}